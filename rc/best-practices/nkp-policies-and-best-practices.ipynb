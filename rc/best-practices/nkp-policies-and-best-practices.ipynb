{
 "cells": [
  {
   "cell_type": "markdown",
   "id": "616b0550",
   "metadata": {},
   "source": [
    "***\n",
    "< [Home](https://github.com/SeanOhAileasa) | [README](https://github.com/SeanOhAileasa/nkp-network-operations/blob/main/README.md) >\n",
    "\n",
    "## CompTIA Network+ - Course Material 2022\n",
    "### Topic: ``Policies and Best Practices``\n",
    "***"
   ]
  },
  {
   "cell_type": "markdown",
   "id": "b82b07fb",
   "metadata": {},
   "source": [
    "Course material for the ``CompTIA Network+`` module of the ``ICT Associate Apprenticeship (Cybersecurity)`` programme."
   ]
  },
  {
   "cell_type": "markdown",
   "id": "e7228f57",
   "metadata": {},
   "source": [
    "<a id=\"top\"></a>\n",
    "***\n",
    "## Table of Contents\n",
    "***"
   ]
  },
  {
   "cell_type": "markdown",
   "id": "aedf6e82",
   "metadata": {},
   "source": [
    "### [Policies and Best Practices](#remoteAccess)"
   ]
  },
  {
   "cell_type": "markdown",
   "id": "ad849f60",
   "metadata": {},
   "source": [
    "<hr width=50%;>"
   ]
  },
  {
   "cell_type": "markdown",
   "id": "04e5e4dc",
   "metadata": {},
   "source": [
    "< [Table of Contents](#top) | [References](#references) >\n",
    "<a id=\"remoteAccess\"></a>\n",
    "***\n",
    "### Policies and Best Practices\n",
    "***"
   ]
  },
  {
   "cell_type": "markdown",
   "id": "4c40d0d3",
   "metadata": {},
   "source": [
    "< [Table of Contents](#top) | [References](#references) >\n",
    "<a id=\"___\"></a>\n",
    "***\n",
    "###### Privileged User Agreement\n",
    "***"
   ]
  },
  {
   "cell_type": "markdown",
   "id": "20b1d8c1",
   "metadata": {},
   "source": [
    "If you’re responsible for servers, network, security, or almost anything else in information technology, then you probably have access to all of the data associated with your organization, but just because you could have access to the data, doesn’t mean that you should access that data. "
   ]
  },
  {
   "cell_type": "markdown",
   "id": "a0ca176e",
   "metadata": {},
   "source": [
    "There are expectations on you as a technology professional to use the highest ethics when it comes to protecting this data. "
   ]
  },
  {
   "cell_type": "markdown",
   "id": "da8dc49f",
   "metadata": {},
   "source": [
    "This means if you’re managing a server or a database, that you will normally use the non-privileged methods to be able to perform whatever functions are required."
   ]
  },
  {
   "cell_type": "markdown",
   "id": "30986854",
   "metadata": {},
   "source": [
    "There will obviously be times when you do need to use privileged access to get into that data, but this also means that you will only be doing this for job related functions."
   ]
  },
  {
   "cell_type": "markdown",
   "id": "77745a51",
   "metadata": {},
   "source": [
    "Because your access to this data is so different than anyone else’s in the organization, you may be asked to sign a privileged user agreement - this means that you will maintain the highest levels of professionalism and maintain the confidentiality of the company’s data."
   ]
  },
  {
   "cell_type": "markdown",
   "id": "2f7c688e",
   "metadata": {},
   "source": [
    "< [Table of Contents](#top) | [References](#references) >\n",
    "<a id=\"___\"></a>\n",
    "***\n",
    "###### Password Policies\n",
    "***"
   ]
  },
  {
   "cell_type": "markdown",
   "id": "f4c17608",
   "metadata": {},
   "source": [
    "We all know that it’s important to make sure that our passwords are constantly being updated, and many organizations have a formal password policy. "
   ]
  },
  {
   "cell_type": "markdown",
   "id": "025eca75",
   "metadata": {},
   "source": [
    "This formal policy will require that users update their passwords after a certain amount of time, for example, every 30 days or 60 days or 90 days. "
   ]
  },
  {
   "cell_type": "markdown",
   "id": "56c64050",
   "metadata": {},
   "source": [
    "In organizations where there is a high level of security associated with this data, you may see password policies that require a change even more frequently."
   ]
  },
  {
   "cell_type": "markdown",
   "id": "86fe20ca",
   "metadata": {},
   "source": [
    "This change process for updating the password should be relatively straightforward for the end user, but if someone finds themselves locked out and they need to recover an account, there should be a formal process, and that process should require an absolute identification of that user before that account is reset for access. "
   ]
  },
  {
   "cell_type": "markdown",
   "id": "084183a8",
   "metadata": {},
   "source": [
    "This is a great opportunity for someone to use social engineering to gain access to someone’s account, so you want to be sure the entire process is well documented and secure."
   ]
  },
  {
   "cell_type": "markdown",
   "id": "bbcd059d",
   "metadata": {},
   "source": [
    "< [Table of Contents](#top) | [References](#references) >\n",
    "<a id=\"___\"></a>\n",
    "***\n",
    "###### On-boarding\n",
    "***"
   ]
  },
  {
   "cell_type": "markdown",
   "id": "fedd90b6",
   "metadata": {},
   "source": [
    "There are a number of important processes that have to be followed during the on boarding process. "
   ]
  },
  {
   "cell_type": "markdown",
   "id": "80cb0a60",
   "metadata": {},
   "source": [
    "This is when you’re hiring someone new from outside the organization, or it might be somebody that’s transferring from one part of the organization to another. "
   ]
  },
  {
   "cell_type": "markdown",
   "id": "4e63b0c1",
   "metadata": {},
   "source": [
    "From an IT perspective, you may require that someone understand the policies that are outlined in the employee handbook, or there may be a completely separate acceptable use policy that you want to be sure that everyone signs during the on boarding process."
   ]
  },
  {
   "cell_type": "markdown",
   "id": "3d67c6f1",
   "metadata": {},
   "source": [
    "There will also be a number of processes that happened behind the scenes during the on boarding process, need to create user account information, need to associate that user with particular groups or departments, and you need to make sure they have email access and create all of the other accounts necessary for that user. "
   ]
  },
  {
   "cell_type": "markdown",
   "id": "ca298e75",
   "metadata": {},
   "source": [
    "And of course, we need to make sure someone has all the hardware required to do their job - need to provide them with a desktop or laptop computer they’ll be using, and we’ll provide them with a mobile device, or we’ll add their mobile device to our mobile device manager."
   ]
  },
  {
   "cell_type": "markdown",
   "id": "a64ba003",
   "metadata": {},
   "source": [
    "< [Table of Contents](#top) | [References](#references) >\n",
    "<a id=\"___\"></a>\n",
    "***\n",
    "###### Off-boarding\n",
    "***"
   ]
  },
  {
   "cell_type": "markdown",
   "id": "b27faf56",
   "metadata": {},
   "source": [
    "Just as we have processes during the on boarding process when someone joins the organization, we also need formal processes and procedures when someone is off boarded as they’re leaving the organization. "
   ]
  },
  {
   "cell_type": "markdown",
   "id": "a0b6d9cf",
   "metadata": {},
   "source": [
    "These should be processes that have already been laid out and are very well documented, so you know exactly what to do when someone leaves the company. "
   ]
  },
  {
   "cell_type": "markdown",
   "id": "9013bf3b",
   "metadata": {},
   "source": [
    "For example, there needs to be a process when someone turns in their hardware, need some type of documentation to show that you’ve received the hardware and that you’re able to process that hardware for the next person, and of course, what happens to this user’s data?"
   ]
  },
  {
   "cell_type": "markdown",
   "id": "e8e00e84",
   "metadata": {},
   "source": [
    "We don’t want to simply delete everything associated with their account, there may be important company data that we want to be sure that we keep. "
   ]
  },
  {
   "cell_type": "markdown",
   "id": "7d1879d1",
   "metadata": {},
   "source": [
    "That’s why it’s very common to deactivate a user’s account and not delete everything associated with a user’s account - there may be important encryption keys associated with that user, and by maintaining that account, we’ll still have access to all of those important encryption keys."
   ]
  },
  {
   "cell_type": "markdown",
   "id": "8925c8b4",
   "metadata": {},
   "source": [
    "< [Table of Contents](#top) | [References](#references) >\n",
    "<a id=\"___\"></a>\n",
    "***\n",
    "###### Licensing Restrictions\n",
    "***"
   ]
  },
  {
   "cell_type": "markdown",
   "id": "e5e12df7",
   "metadata": {},
   "source": [
    "If you’re someone who has ever had to maintain a set of licenses in your organization, you know this can be a challenge. "
   ]
  },
  {
   "cell_type": "markdown",
   "id": "2596f7da",
   "metadata": {},
   "source": [
    "There may be separate licensing for operating systems that you use, for applications that are in use, or even for individual pieces of hardware that are in use, and of course, each one of these different types of services has a completely different method of performing licensing."
   ]
  },
  {
   "cell_type": "markdown",
   "id": "335e021a",
   "metadata": {},
   "source": [
    "One reason we want to have all of these licenses up to date is we could run into problems with availability if this license was to expire, for example, some applications will work perfectly normally until the date the license expires and at that point, the application won’t work at all. "
   ]
  },
  {
   "cell_type": "markdown",
   "id": "476134e2",
   "metadata": {},
   "source": [
    "Some devices may work after a licensing period expires, but perhaps with a subset of functionality, so if you want all of your systems running exactly the way they are today, you want to be sure to document and have a process available for updating those licenses."
   ]
  },
  {
   "cell_type": "markdown",
   "id": "0d82ca0c",
   "metadata": {},
   "source": [
    "Sometimes a license expiration means that certain important features of an application are suddenly no longer available, for example, if the license expires for your malware scanning gateway, it may still allow traffic to pass through that gateway, but of course, there’s no checks at that point for any malicious software. "
   ]
  },
  {
   "cell_type": "markdown",
   "id": "9c9ea038",
   "metadata": {},
   "source": [
    "< [Table of Contents](#top) | [References](#references) >\n",
    "<a id=\"___\"></a>\n",
    "***\n",
    "###### International Export Controls\n",
    "***"
   ]
  },
  {
   "cell_type": "markdown",
   "id": "2f2c2be6",
   "metadata": {},
   "source": [
    "When you’re working with equipment or software inside of your own country, it may be relatively straightforward to understand how all of that information is maintained. "
   ]
  },
  {
   "cell_type": "markdown",
   "id": "fc98f2ea",
   "metadata": {},
   "source": [
    "But if you ever need to send any of that information to another country, there may be specific rules and regulations in place on what happens with all of that hardware and software."
   ]
  },
  {
   "cell_type": "markdown",
   "id": "961b06e7",
   "metadata": {},
   "source": [
    "These days these international export controls not only apply to the hardware that we might send to another country, they also are associated with the data that we might send to another country. "
   ]
  },
  {
   "cell_type": "markdown",
   "id": "cd1b5142",
   "metadata": {},
   "source": [
    "Many countries have created significant regulations associated with personally identifiable information and what information may leave the country and what information must stay in the country."
   ]
  },
  {
   "cell_type": "markdown",
   "id": "0cd6b834",
   "metadata": {},
   "source": [
    "You may also find the components that could be used for both civilian and military use may have a different set of international export controls associated with them, for example, there may be a completely different set of export controls for something like a firewall, an intrusion prevention system, or a hacking tool. "
   ]
  },
  {
   "cell_type": "markdown",
   "id": "384b9cd0",
   "metadata": {},
   "source": [
    "If you don’t follow these international export controls, sometimes the penalties can be quite severe, so it’s important to check with your local legal team to make sure that the hardware and software you’re sending to another country is complying with all of these regulations."
   ]
  },
  {
   "cell_type": "markdown",
   "id": "ffb23699",
   "metadata": {},
   "source": [
    "< [Table of Contents](#top) | [References](#references) >\n",
    "<a id=\"___\"></a>\n",
    "***\n",
    "###### Data Loss Prevention - DLP\n",
    "***"
   ]
  },
  {
   "cell_type": "markdown",
   "id": "1437e0f6",
   "metadata": {},
   "source": [
    "Every organization needs to have a formal set of policies and procedures related to DLP, or data loss prevention. "
   ]
  },
  {
   "cell_type": "markdown",
   "id": "81f94ecf",
   "metadata": {},
   "source": [
    "These will be policies that dictate how your organization will be handling social security numbers, credit card numbers, or any other type of personally identifiable information. "
   ]
  },
  {
   "cell_type": "markdown",
   "id": "6f6dab54",
   "metadata": {},
   "source": [
    "For example, if you’re in an organization that works with medical data, you need to understand exactly how that sensitive information may be transferred across your network - do you use encryption to make sure that information is secure, and how is that encryption enabled for that data?"
   ]
  },
  {
   "cell_type": "markdown",
   "id": "49437db4",
   "metadata": {},
   "source": [
    "Many organizations will also deploy data loss prevention technologies on their servers and their networks to watch for this data going across the network."
   ]
  },
  {
   "cell_type": "markdown",
   "id": "38149882",
   "metadata": {},
   "source": [
    "That’s another way to validate that your policies and procedures are being followed, and if someone goes outside the scope of your policies and procedures, you can block that information before it gets into the hands of someone else."
   ]
  },
  {
   "cell_type": "markdown",
   "id": "f4a6adcf",
   "metadata": {},
   "source": [
    "< [Table of Contents](#top) | [References](#references) >\n",
    "<a id=\"___\"></a>\n",
    "***\n",
    "###### Remote Access Policies\n",
    "***"
   ]
  },
  {
   "cell_type": "markdown",
   "id": "83477eef",
   "metadata": {},
   "source": [
    "When people are sitting at desks inside of the building, it’s relatively easy to control the flow of data from one side of the network to the other, but of course, not everybody is inside of the building. "
   ]
  },
  {
   "cell_type": "markdown",
   "id": "924ee838",
   "metadata": {},
   "source": [
    "Many people will be working remotely, so there need to be a series of policies that define how do you manage this data and this process of communication when people are outside of the building. "
   ]
  },
  {
   "cell_type": "markdown",
   "id": "7c9fd724",
   "metadata": {},
   "source": [
    "Of course, this policy is not only something that applies to your employees, but it also applies to third parties that may be connecting to a VPN to gain access to resources that are on the inside of your network."
   ]
  },
  {
   "cell_type": "markdown",
   "id": "a29c0073",
   "metadata": {},
   "source": [
    "These policies usually have very specific technical requirements, for example, it may require that you’re using an encrypted connection, and it may specify the type of encryption that you have to use. "
   ]
  },
  {
   "cell_type": "markdown",
   "id": "06683b4f",
   "metadata": {},
   "source": [
    "It may specify the type of credentials that you need to supply when you log in, and it may dictate exactly how the network, the hardware, and the software should be used over this remote communication."
   ]
  },
  {
   "cell_type": "markdown",
   "id": "dddf4f42",
   "metadata": {},
   "source": [
    "< [Table of Contents](#top) | [References](#references) >\n",
    "<a id=\"___\"></a>\n",
    "***\n",
    "###### Security Incidents\n",
    "***"
   ]
  },
  {
   "cell_type": "markdown",
   "id": "d259b64e",
   "metadata": {},
   "source": [
    "It’s also important that your organization have a set of policies and procedures for when a particular security incident occurs, for example, if someone receives an email with an attachment and clicks on that attachment and installs malware, there needs to be policies on how to handle that. "
   ]
  },
  {
   "cell_type": "markdown",
   "id": "cfb5dad9",
   "metadata": {},
   "source": [
    "But what if it’s something more broad, like a distributed denial of service attack?"
   ]
  },
  {
   "cell_type": "markdown",
   "id": "dcb82f1f",
   "metadata": {},
   "source": [
    "There needs to be a set of policies for that type of security incident, as well. "
   ]
  },
  {
   "cell_type": "markdown",
   "id": "cea4cb42",
   "metadata": {},
   "source": [
    "Sometimes confidential information is stolen or is made public, and sometimes the thieves of that information would like money to be able to keep that information secret, or it may be that someone on the inside has installed peer to peer software, and now someone who is external to your organization can easily gain access to your internal resources."
   ]
  },
  {
   "cell_type": "markdown",
   "id": "03e3f53a",
   "metadata": {},
   "source": [
    "< [Table of Contents](#top) | [References](#references) >\n",
    "<a id=\"___\"></a>\n",
    "***\n",
    "###### Incident Response Policies\n",
    "***"
   ]
  },
  {
   "cell_type": "markdown",
   "id": "5cb3b2e2",
   "metadata": {},
   "source": [
    "The security policies that are looking for these incidents should first start with how you would identify one of those incidents in your organization, for example, there should be an automated monitoring system that is constantly looking for these types of security issues. "
   ]
  },
  {
   "cell_type": "markdown",
   "id": "4fac18c2",
   "metadata": {},
   "source": [
    "You want to be able to alarm if an issue is discovered and alert all of the appropriate people that need to react to that particular security incident. "
   ]
  },
  {
   "cell_type": "markdown",
   "id": "b024e750",
   "metadata": {},
   "source": [
    "Each type of attack will obviously need a different type of response."
   ]
  },
  {
   "cell_type": "markdown",
   "id": "0eca4c9d",
   "metadata": {},
   "source": [
    "Your processes and procedures should already know how to handle different categories of attacks. "
   ]
  },
  {
   "cell_type": "markdown",
   "id": "4108a6f2",
   "metadata": {},
   "source": [
    "An email issue, for example, may be handled very different than a brute force attack. "
   ]
  },
  {
   "cell_type": "markdown",
   "id": "7fd0d5eb",
   "metadata": {},
   "source": [
    "You should also have a set of policies that determines who gets contacted for these types of attacks - if it’s something relating to email, it may be a very small group of people that are contacted, but if this is a distributed denial of service attack, there may be a much larger group of people in your organization who need to respond. "
   ]
  },
  {
   "cell_type": "markdown",
   "id": "dbad3d86",
   "metadata": {},
   "source": [
    "All of these procedures need to be created well before an incident occurs, everyone needs to understand what these processes and procedures are, and there needs to be training and exercises so that everyone knows exactly what to do when a security incident happens."
   ]
  },
  {
   "cell_type": "markdown",
   "id": "9be95d4a",
   "metadata": {},
   "source": [
    "< [Table of Contents](#top) | [References](#references) >\n",
    "<a id=\"___\"></a>\n",
    "***\n",
    "###### BYOD\n",
    "***"
   ]
  },
  {
   "cell_type": "markdown",
   "id": "ce6f9540",
   "metadata": {},
   "source": [
    "The use of our mobile devices is blending together these days between our personal life and our professional life, and an organization needs to have a set of policies and procedures on how to handle the BYOD, which is bring your own device. "
   ]
  },
  {
   "cell_type": "markdown",
   "id": "ed889258",
   "metadata": {},
   "source": [
    "You may also see this referred to as bring your own technology. "
   ]
  },
  {
   "cell_type": "markdown",
   "id": "81d346ba",
   "metadata": {},
   "source": [
    "With BYOD, the company doesn’t own the mobile device, since the end user owns this device, there will certainly be personal email messages and personal pictures and other data on that device, but since it’s also used for business, there may be company information on this device, as well. "
   ]
  },
  {
   "cell_type": "markdown",
   "id": "e06d7eae",
   "metadata": {},
   "source": [
    "That’s why it’s important to establish a policy early on on exactly how this data is managed."
   ]
  },
  {
   "cell_type": "markdown",
   "id": "6fa2a65b",
   "metadata": {},
   "source": [
    "For example, you may require that the user has a lock screen that locks this device and has a certain type of password to protect both their data and the company’s information and of course, there needs to be a change process in place if this particular device is traded in, if it’s upgraded, or if it’s sold to someone else. "
   ]
  },
  {
   "cell_type": "markdown",
   "id": "a97a6ab5",
   "metadata": {},
   "source": [
    "All of your end users should be aware of these processes and know exactly what to do if any one of these situations occurs."
   ]
  },
  {
   "cell_type": "markdown",
   "id": "c79d2a07",
   "metadata": {},
   "source": [
    "< [Table of Contents](#top) | [References](#references) >\n",
    "<a id=\"___\"></a>\n",
    "***\n",
    "###### Acceptable Use Policies - AUP\n",
    "***"
   ]
  },
  {
   "cell_type": "markdown",
   "id": "55964331",
   "metadata": {},
   "source": [
    "Can your end users send personal email messages from your corporate email account? "
   ]
  },
  {
   "cell_type": "markdown",
   "id": "0a561af1",
   "metadata": {},
   "source": [
    "What types of websites are appropriate for someone to visit when they’re using a corporate laptop? "
   ]
  },
  {
   "cell_type": "markdown",
   "id": "c791e2de",
   "metadata": {},
   "source": [
    "This type of information should be well documented in your AUP, or your acceptable use policies. "
   ]
  },
  {
   "cell_type": "markdown",
   "id": "ae64b295",
   "metadata": {},
   "source": [
    "The AUP doesn’t just cover a laptop or desktop computer, but it covers every type of device a user may have access to. "
   ]
  },
  {
   "cell_type": "markdown",
   "id": "497e4ace",
   "metadata": {},
   "source": [
    "This might be the telephones that you have in your organization, computers, laptops, mobile devices, tablets, and anything else that is touching the network."
   ]
  },
  {
   "cell_type": "markdown",
   "id": "773e3ddf",
   "metadata": {},
   "source": [
    "Every organization has a different philosophy when it comes to what is acceptable on the network, which is why it’s important that all of this information is documented. "
   ]
  },
  {
   "cell_type": "markdown",
   "id": "c6a8e316",
   "metadata": {},
   "source": [
    "If this ever comes up in a third party environment, like a court system, you’ll be able to document that this user knew that this particular thing that they were doing was inappropriate on this network and if someone happens to be dismissed from the organization by violating these acceptable use policies, you have documentation that proves that the user knew exactly what they were doing was unacceptable to the organization."
   ]
  },
  {
   "cell_type": "markdown",
   "id": "d17638bd",
   "metadata": {},
   "source": [
    "< [Table of Contents](#top) | [References](#references) >\n",
    "<a id=\"___\"></a>\n",
    "***\n",
    "###### Non-disclosure Agreement - NDA\n",
    "***"
   ]
  },
  {
   "cell_type": "markdown",
   "id": "3ad75007",
   "metadata": {},
   "source": [
    "At some point you may be asked to sign an NDA - nondisclosure agreement. "
   ]
  },
  {
   "cell_type": "markdown",
   "id": "95d40e4d",
   "metadata": {},
   "source": [
    "It’s a confidentiality agreement between two parties that says that you’re not going to tell anyone else about this confidential information. "
   ]
  },
  {
   "cell_type": "markdown",
   "id": "ade914d1",
   "metadata": {},
   "source": [
    "This may be an NDA that you’re signing with the company that you’re employed by to make sure that all of the information that you’re learning as an employee is not going to be provided to anyone outside the organization, or this might be an NDA that you sign with a third party that you’re working with. "
   ]
  },
  {
   "cell_type": "markdown",
   "id": "c70700ea",
   "metadata": {},
   "source": [
    "Perhaps you’re setting up a partnership with an external organization and you want to be sure that anything learned is part of that partnership is not made public to anyone else."
   ]
  },
  {
   "cell_type": "markdown",
   "id": "0cc793d6",
   "metadata": {},
   "source": [
    "< [Table of Contents](#top) | [References](#references) >\n",
    "<a id=\"___\"></a>\n",
    "***\n",
    "###### System Life Cycle\n",
    "***"
   ]
  },
  {
   "cell_type": "markdown",
   "id": "bf3abc4b",
   "metadata": {},
   "source": [
    "What happens to all of your technical assets when they reach the end of their usable life? "
   ]
  },
  {
   "cell_type": "markdown",
   "id": "d8fd46dd",
   "metadata": {},
   "source": [
    "There needs to be a set of policies and procedures that helps you understand how to manage the disposal of these assets. "
   ]
  },
  {
   "cell_type": "markdown",
   "id": "9c4d0862",
   "metadata": {},
   "source": [
    "This may not only be technical procedures, but there may also be legal procedures, as well. "
   ]
  },
  {
   "cell_type": "markdown",
   "id": "ff9c5405",
   "metadata": {},
   "source": [
    "Your type of business may have certain requirements on how data is stored, so you may find that certain devices may have to be stored for a certain amount of time before you would ever consider disposing of them. "
   ]
  },
  {
   "cell_type": "markdown",
   "id": "3945b4a9",
   "metadata": {},
   "source": [
    "On the technical side, you need to make sure that anything that is disposed or provided to a third party has all of its important confidential company information deleted from that device before it ever leaves your building."
   ]
  },
  {
   "cell_type": "markdown",
   "id": "e0fb53cf",
   "metadata": {},
   "source": [
    "< [Table of Contents](#top) | [References](#references) >\n",
    "<a id=\"___\"></a>\n",
    "***\n",
    "###### Physical Destruction\n",
    "***"
   ]
  },
  {
   "cell_type": "markdown",
   "id": "c61f4c90",
   "metadata": {},
   "source": [
    "This is why it’s common for many organizations to physically destroy these devices instead of having that data somehow find its way outside the building. "
   ]
  },
  {
   "cell_type": "markdown",
   "id": "f1e470d0",
   "metadata": {},
   "source": [
    "You might have a shredder or a pulverizer that destroys the equipment. "
   ]
  },
  {
   "cell_type": "markdown",
   "id": "d4628ef8",
   "metadata": {},
   "source": [
    "Some people will simply drill through storage devices or use a hammer to make sure that they could never be used again, and some type of storage media, like magnetic tapes, can have everything deleted by using a degausser and of course, some components and documentation can be permanently destroyed through the use of incineration."
   ]
  },
  {
   "cell_type": "markdown",
   "id": "d90a3c72",
   "metadata": {},
   "source": [
    "< [Table of Contents](#top) | [References](#references) >\n",
    "<a id=\"___\"></a>\n",
    "***\n",
    "###### Safety Procedures and Policies\n",
    "***"
   ]
  },
  {
   "cell_type": "markdown",
   "id": "ff7e717e",
   "metadata": {},
   "source": [
    "There should also be well-established safety procedures and policies at your organization. "
   ]
  },
  {
   "cell_type": "markdown",
   "id": "19ba00ed",
   "metadata": {},
   "source": [
    "The server, the printers, and the other pieces of hardware that we’re using will use a lot of electricity, so we need to make sure that we have safety policies in place for all of this electrical equipment. "
   ]
  },
  {
   "cell_type": "markdown",
   "id": "57f44ad4",
   "metadata": {},
   "source": [
    "We also need to think about the safety of our employees, if they’re working around manufacturing equipment, we may have a very specific jewelry policy, if they’re working with cables, there may be cable management policies, and of course, it’s important that everyone use proper lifting techniques and have fire safety procedures in place."
   ]
  },
  {
   "cell_type": "markdown",
   "id": "e299fdd6",
   "metadata": {},
   "source": [
    "IT professionals also handle a lot of toxic waste. "
   ]
  },
  {
   "cell_type": "markdown",
   "id": "7e2bf75f",
   "metadata": {},
   "source": [
    "There’s acid inside of batteries and printer toner can be dangerous if it’s not disposed of properly. "
   ]
  },
  {
   "cell_type": "markdown",
   "id": "694e5026",
   "metadata": {},
   "source": [
    "All of the different components in your organization have a material safety data sheet ``MSDS`` or what’s now called a safety data sheet ``SDS``. "
   ]
  },
  {
   "cell_type": "markdown",
   "id": "31192ef7",
   "metadata": {},
   "source": [
    "The SDS will tell you exactly how these components should be handled, how they should be disposed of, and they’ll provide first date information if that that’s required."
   ]
  },
  {
   "cell_type": "markdown",
   "id": "0e053489",
   "metadata": {},
   "source": [
    "There is also undoubtedly local government regulations associated with safety procedures and policies in your organization, so make sure you understand what your local safety laws are, what the building codes are required for your organization and of course, all of the environmental regulations associated with the products and the equipment that you use."
   ]
  },
  {
   "cell_type": "markdown",
   "id": "bf2b95e2",
   "metadata": {},
   "source": [
    "***\n",
    "## END"
   ]
  },
  {
   "cell_type": "markdown",
   "id": "e0e42d51",
   "metadata": {},
   "source": [
    "< [Table of Contents](#top) >\n",
    "<a id=\"references\"></a>\n",
    "***\n",
    "## References\n",
    "***"
   ]
  },
  {
   "cell_type": "markdown",
   "id": "0b469c7d",
   "metadata": {},
   "source": [
    "&nbsp;&nbsp;&nbsp;&nbsp;&nbsp;&nbsp;&nbsp;&nbsp;&nbsp;J. \"Professor\" Messer, \"CompTIA Network+ (N10-007) Course Notes,\" [professormesser.com](https://web.archive.org/web/20220404153917/https://www.professormesser.com/network-plus/n10-007/n10-007-training-course/), March 2019."
   ]
  },
  {
   "cell_type": "markdown",
   "id": "b33c372a",
   "metadata": {},
   "source": [
    "***\n",
    "## END"
   ]
  },
  {
   "cell_type": "markdown",
   "id": "e5961b4d",
   "metadata": {},
   "source": [
    "< [Table of Contents](#top) | [References](#references) >\n",
    "<a id=\"appendix\"></a>\n",
    "***\n",
    "## Appendix\n",
    "***"
   ]
  },
  {
   "cell_type": "markdown",
   "id": "00d82a82",
   "metadata": {},
   "source": [
    "***\n",
    "## END"
   ]
  },
  {
   "cell_type": "code",
   "execution_count": 1,
   "id": "4f6be89f",
   "metadata": {},
   "outputs": [
    {
     "data": {
      "text/html": [
       "<style>.container { width:100% !important; }</style>"
      ],
      "text/plain": [
       "<IPython.core.display.HTML object>"
      ]
     },
     "metadata": {},
     "output_type": "display_data"
    }
   ],
   "source": [
    "from IPython.core.display import display,HTML\n",
    "display(HTML(\"<style>.container { width:100% !important; }</style>\"))"
   ]
  },
  {
   "cell_type": "markdown",
   "id": "a3bf062d",
   "metadata": {},
   "source": [
    "# END JUPYTER NOTEBOOK"
   ]
  }
 ],
 "metadata": {
  "kernelspec": {
   "display_name": "Python 3",
   "language": "python",
   "name": "python3"
  },
  "language_info": {
   "codemirror_mode": {
    "name": "ipython",
    "version": 3
   },
   "file_extension": ".py",
   "mimetype": "text/x-python",
   "name": "python",
   "nbconvert_exporter": "python",
   "pygments_lexer": "ipython3",
   "version": "3.8.8"
  }
 },
 "nbformat": 4,
 "nbformat_minor": 5
}
